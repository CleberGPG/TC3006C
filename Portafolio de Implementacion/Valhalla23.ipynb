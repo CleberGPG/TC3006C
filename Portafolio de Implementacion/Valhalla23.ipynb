{
  "nbformat": 4,
  "nbformat_minor": 0,
  "metadata": {
    "colab": {
      "provenance": []
    },
    "kernelspec": {
      "name": "python3",
      "display_name": "Python 3"
    },
    "language_info": {
      "name": "python"
    }
  },
  "cells": [
    {
      "cell_type": "markdown",
      "source": [
        "<h1>Módulo 2: Implementación de una técnica de aprendizaje máquina sin el uso de un framework.</h1>"
      ],
      "metadata": {
        "id": "Za2kudu1-T0f"
      }
    },
    {
      "cell_type": "code",
      "source": [
        "from google.colab import drive\n",
        "drive.mount(\"/content/gdrive\")"
      ],
      "metadata": {
        "colab": {
          "base_uri": "https://localhost:8080/",
          "height": 0
        },
        "id": "cOpgDqz9rO74",
        "outputId": "d031b3f0-b82c-4ea3-82b1-65f2ace88970"
      },
      "execution_count": 1,
      "outputs": [
        {
          "output_type": "stream",
          "name": "stdout",
          "text": [
            "Mounted at /content/gdrive\n"
          ]
        }
      ]
    },
    {
      "cell_type": "code",
      "source": [
        "%cd \"/content/gdrive/MyDrive\""
      ],
      "metadata": {
        "colab": {
          "base_uri": "https://localhost:8080/",
          "height": 0
        },
        "id": "oTZhiidgrbeE",
        "outputId": "a7c32b85-4e67-4607-d084-8f4b276393c4"
      },
      "execution_count": 2,
      "outputs": [
        {
          "output_type": "stream",
          "name": "stdout",
          "text": [
            "/content/gdrive/MyDrive\n"
          ]
        }
      ]
    },
    {
      "cell_type": "code",
      "source": [
        "import numpy as np\n",
        "import pandas as pd\n",
        "import matplotlib.pyplot as plt\n",
        "\n",
        "data = pd.read_csv('Valhalla23.csv')"
      ],
      "metadata": {
        "id": "lYLWZV0Vr2V4"
      },
      "execution_count": 77,
      "outputs": []
    },
    {
      "cell_type": "code",
      "source": [
        "print(data)"
      ],
      "metadata": {
        "colab": {
          "base_uri": "https://localhost:8080/",
          "height": 0
        },
        "id": "0NwxDHP7vsF8",
        "outputId": "db20eabf-f16c-4e69-dfe6-974978a96b8c"
      },
      "execution_count": 78,
      "outputs": [
        {
          "output_type": "stream",
          "name": "stdout",
          "text": [
            "    Celsius     Valks\n",
            "0   61.4720 -139.7400\n",
            "1   70.5790 -156.6000\n",
            "2   -7.3013   73.2690\n",
            "3   71.3380 -165.4200\n",
            "4   43.2360  -75.8350\n",
            "..      ...       ...\n",
            "95  -7.0094   69.6320\n",
            "96  36.8820  -71.2400\n",
            "97  26.9390  -34.2550\n",
            "98 -18.8100  106.4300\n",
            "99  13.7120    9.1011\n",
            "\n",
            "[100 rows x 2 columns]\n"
          ]
        }
      ]
    },
    {
      "cell_type": "code",
      "source": [
        "X = data['Celsius'].values\n",
        "y = data['Valks'].values\n",
        "\n",
        "# Normalizacion de los datos\n",
        "X = (X - np.mean(X)) / np.std(X)\n",
        "\n",
        "# Añadir una columna de unos a X para el término de sesgo\n",
        "X = np.c_[np.ones(X.shape[0]), X]\n",
        "\n",
        "# SE dividen los datos en conjuntos de entrenamiento 70% y prueba 30%\n",
        "train_size = int(0.7 * len(X))\n",
        "X_train, X_test = X[:train_size], X[train_size:]\n",
        "y_train, y_test = y[:train_size], y[train_size:]\n",
        "\n",
        "# Parametros\n",
        "theta = np.random.randn(2)\n",
        "learning_rate = 0.5  # Reducir la tasa de aprendizaje\n",
        "iterations = 100  # Aumentar el número de iteraciones\n",
        "\n",
        "# Funcion de costo\n",
        "def compute_cost(X, y, theta):\n",
        "    m = len(y)\n",
        "    predictions = X.dot(theta)\n",
        "    cost = (1/(2*m)) * np.sum(np.square(predictions - y))\n",
        "    return cost\n",
        "\n",
        "# Gradiente descendente\n",
        "def gradiente_descendente(X, y, theta, learning_rate, iterations):\n",
        "    m = len(y)\n",
        "    cost_history = np.zeros(iterations)\n",
        "\n",
        "    for i in range(iterations):\n",
        "        predictions = X.dot(theta)\n",
        "        errors = predictions - y\n",
        "        theta = theta - (1/m) * learning_rate * (X.T.dot(errors))\n",
        "        cost_history[i] = compute_cost(X, y, theta)\n",
        "\n",
        "    return theta, cost_history\n",
        "\n",
        "# Entrenamiento del Modelo\n",
        "theta, cost_history = gradiente_descendente(X_train, y_train, theta, learning_rate, iterations)\n",
        "\n",
        "# Aqui se calcula el costo para los subconjuntos de entrenamiento y prueba\n",
        "train_cost = compute_cost(X_train, y_train, theta)\n",
        "test_cost = compute_cost(X_test, y_test, theta)\n",
        "\n",
        "print(f'Costo para el conjunto de entrenamiento: {train_cost}')\n",
        "print(f'Costo para el conjunto de prueba: {test_cost}')\n",
        "\n",
        "# Predicciones\n",
        "predictions = X_test.dot(theta)\n",
        "\n",
        "# Grafica\n",
        "plt.scatter(X_test[:, 1], y_test, color='blue', label='Datos Reales')\n",
        "plt.plot(X_test[:, 1], predictions, color='red', label='Predicciones')\n",
        "plt.xlabel('Celsius')\n",
        "plt.ylabel('Valks')\n",
        "plt.legend()\n",
        "plt.show()"
      ],
      "metadata": {
        "colab": {
          "base_uri": "https://localhost:8080/",
          "height": 484
        },
        "id": "jBDEYN60r64u",
        "outputId": "d54be65e-94df-4293-ca89-0079659019eb"
      },
      "execution_count": 79,
      "outputs": [
        {
          "output_type": "stream",
          "name": "stdout",
          "text": [
            "Costo para el conjunto de entrenamiento: 20.434923609944555\n",
            "Costo para el conjunto de prueba: 27.806495000016376\n"
          ]
        },
        {
          "output_type": "display_data",
          "data": {
            "text/plain": [
              "<Figure size 640x480 with 1 Axes>"
            ],
            "image/png": "[encoded data removed]"
          },
          "metadata": {}
        }
      ]
    }
  ]
}